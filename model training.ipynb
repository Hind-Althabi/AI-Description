{
 "cells": [
  {
   "cell_type": "code",
   "execution_count": 1,
   "id": "3d7ed7aa-b0cc-4df6-b639-0cb6e381bbfd",
   "metadata": {},
   "outputs": [],
   "source": [
    "import re\n",
    "import random\n",
    "import numpy as np\n",
    "import tensorflow as tf\n",
    "import matplotlib.pyplot as plt\n",
    "\n",
    "from tensorflow import keras\n",
    "from time import time\n",
    "\n",
    "from tqdm import tqdm # progress bar\n",
    "from sklearn.model_selection import train_test_split # Dividing train test\n",
    "from nltk.translate.bleu_score import corpus_bleu # BLEU Score"
   ]
  },
  {
   "cell_type": "code",
   "execution_count": 2,
   "id": "9c6560c7-c510-44c9-b066-852864abc5cf",
   "metadata": {},
   "outputs": [],
   "source": [
    "dataset_path = \"Dataset\"\n",
    "dataset_images_path = dataset_path + \"/Images/\""
   ]
  },
  {
   "cell_type": "code",
   "execution_count": 3,
   "id": "90cf3083-c475-43d3-9152-9509c6f30842",
   "metadata": {},
   "outputs": [],
   "source": [
    "img_height = 180\n",
    "img_width = 180\n",
    "validation_split = 0.2"
   ]
  },
  {
   "cell_type": "code",
   "execution_count": 4,
   "id": "79040414-adb2-4362-90a9-0581b968860f",
   "metadata": {},
   "outputs": [],
   "source": [
    "# Remove the last layer of the Inception V3 model\n",
    "def get_encoder():\n",
    "    image_model = tf.keras.applications.InceptionV3(include_top=False, weights='imagenet')\n",
    "    new_input = image_model.input\n",
    "    hidden_layer = image_model.layers[-1].output\n",
    "\n",
    "    image_features_extract_model = tf.keras.Model(new_input, hidden_layer)\n",
    "    return image_features_extract_model"
   ]
  },
  {
   "cell_type": "code",
   "execution_count": 5,
   "id": "e026099e-b3f9-4bb7-a823-62e08d6cf739",
   "metadata": {},
   "outputs": [],
   "source": [
    "# Preprocess the caption, splitting the string and adding <start> and <end> tokens\n",
    "def get_preprocessed_caption(caption):\n",
    "    caption = re.sub(r'\\s+', ' ', caption)\n",
    "    caption = caption.strip()\n",
    "    caption = \"<start> \" + caption + \" <end>\"\n",
    "    return caption"
   ]
  },
  {
   "cell_type": "code",
   "execution_count": 6,
   "id": "00b51732-5094-443b-ad87-2ac9a2cbd089",
   "metadata": {},
   "outputs": [],
   "source": [
    "images_captions_dict = {}\n",
    "\n",
    "with open(dataset_path + \"/captions.txt\", \"r\") as dataset_info:\n",
    "    next(dataset_info) # Omit header: image, caption\n",
    "\n",
    "    # Using a subset of 4,000 entries out of 40,000\n",
    "    for info_raw in list(dataset_info)[:8000]:\n",
    "        info = info_raw.split(\",\")\n",
    "        image_filename = info[0]\n",
    "        caption = get_preprocessed_caption(info[1])\n",
    "\n",
    "        if image_filename not in images_captions_dict.keys():\n",
    "            images_captions_dict[image_filename] = [caption]\n",
    "        else:\n",
    "            images_captions_dict[image_filename].append(caption)"
   ]
  },
  {
   "cell_type": "code",
   "execution_count": 7,
   "id": "89535e31-4ae9-45b2-b964-b46931c648d9",
   "metadata": {},
   "outputs": [],
   "source": [
    "def load_image(image_path):\n",
    "    img = tf.io.read_file(dataset_images_path + image_path)\n",
    "    img = tf.image.decode_jpeg(img, channels=3)\n",
    "    img = tf.image.resize(img, (img_height, img_width))\n",
    "    img = tf.keras.applications.inception_v3.preprocess_input(img) # preprocessing needed for pre-trained model\n",
    "    return img, image_path"
   ]
  },
  {
   "cell_type": "code",
   "execution_count": 8,
   "id": "642d7b13-f3df-4e38-b2f4-ff7a5a704cb0",
   "metadata": {},
   "outputs": [],
   "source": [
    "image_captions_dict_keys = list(images_captions_dict.keys())\n",
    "image_dataset = tf.data.Dataset.from_tensor_slices(image_captions_dict_keys)\n",
    "image_dataset = image_dataset.map(load_image, num_parallel_calls=tf.data.experimental.AUTOTUNE).batch(64)"
   ]
  },
  {
   "cell_type": "code",
   "execution_count": 9,
   "id": "ed11b5e7-8c22-416a-84fb-37ca6033c0bc",
   "metadata": {},
   "outputs": [
    {
     "name": "stderr",
     "output_type": "stream",
     "text": [
      "100%|██████████| 125/125 [04:10<00:00,  2.01s/it]\n"
     ]
    }
   ],
   "source": [
    "images_dict = {}\n",
    "encoder = get_encoder()\n",
    "for img_tensor, path_tensor in tqdm(image_dataset):\n",
    "    batch_features_tensor = encoder(img_tensor)\n",
    "\n",
    "    # Loop over batch to save each element in images_dict\n",
    "    for batch_features, path in zip(batch_features_tensor, path_tensor):\n",
    "        decoded_path = path.numpy().decode(\"utf-8\")\n",
    "        images_dict[decoded_path] = batch_features.numpy()"
   ]
  },
  {
   "cell_type": "code",
   "execution_count": 10,
   "id": "c44d22e3-1a71-4e31-84a4-6834d245159d",
   "metadata": {},
   "outputs": [
    {
     "data": {
      "text/plain": [
       "(4, 4, 2048)"
      ]
     },
     "execution_count": 10,
     "metadata": {},
     "output_type": "execute_result"
    }
   ],
   "source": [
    "list(images_dict.items())[0][1].shape"
   ]
  },
  {
   "cell_type": "code",
   "execution_count": 11,
   "id": "50f71932-7eb5-4a3f-880d-5665ccc402e2",
   "metadata": {},
   "outputs": [],
   "source": [
    "def get_images_labels(image_filenames):\n",
    "    images = []\n",
    "    labels = []\n",
    "\n",
    "    for image_filename in image_filenames:\n",
    "        image = images_dict[image_filename]\n",
    "        captions = images_captions_dict[image_filename]\n",
    "\n",
    "        # Add one instance per caption\n",
    "        for caption in captions:\n",
    "            images.append(image)\n",
    "            labels.append(caption)\n",
    "\n",
    "    return images, labels"
   ]
  },
  {
   "cell_type": "code",
   "execution_count": 12,
   "id": "ef2d66c8-6407-454f-8e92-4683ec24f3dc",
   "metadata": {},
   "outputs": [],
   "source": [
    "image_filenames = list(images_captions_dict.keys())\n",
    "image_filenames_train, image_filenames_test = \\\n",
    "    train_test_split(image_filenames, test_size=validation_split, random_state=1)\n",
    "\n",
    "X_train, y_train_raw = get_images_labels(image_filenames_train)\n",
    "X_test, y_test_raw = get_images_labels(image_filenames_test)"
   ]
  },
  {
   "cell_type": "code",
   "execution_count": 13,
   "id": "cef35771-2fc6-4a3a-a1bf-e4d2a986115a",
   "metadata": {},
   "outputs": [
    {
     "data": {
      "text/plain": [
       "(6400, 6400, 1600, 1600)"
      ]
     },
     "execution_count": 13,
     "metadata": {},
     "output_type": "execute_result"
    }
   ],
   "source": [
    "# Per image 5 captions and 0.2 test split\n",
    "len(X_train), len(y_train_raw), len(X_test), len(y_test_raw)"
   ]
  },
  {
   "cell_type": "code",
   "execution_count": 14,
   "id": "220110e9-b0fd-4f07-8e1d-781873f4e186",
   "metadata": {},
   "outputs": [],
   "source": [
    "top_k = 5000 # Take maximum of words out of 7600\n",
    "tokenizer = tf.keras.preprocessing.text.Tokenizer(num_words=top_k,\n",
    "                                                  oov_token=\"<unk>\",\n",
    "                                                  filters='!\"#$%&()*+.,-/:;=?@[\\]^_`{|}~ ')\n",
    "\n",
    "# Generate vocabulary from train captions\n",
    "tokenizer.fit_on_texts(y_train_raw)\n",
    "\n",
    "# Introduce padding to make the captions of the same size for the LSTM model\n",
    "tokenizer.word_index['<pad>'] = 0\n",
    "tokenizer.index_word[0] = '<pad>'\n",
    "\n",
    "# Create the tokenized vectors\n",
    "y_train = tokenizer.texts_to_sequences(y_train_raw)\n",
    "\n",
    "# Add padding to each vector to the max_length of the captions (automatically done)\n",
    "y_train = tf.keras.preprocessing.sequence.pad_sequences(y_train, padding='post')"
   ]
  },
  {
   "cell_type": "code",
   "execution_count": 15,
   "id": "fffcca88-b21a-49e2-b570-0a1ed6c477c4",
   "metadata": {},
   "outputs": [
    {
     "name": "stdout",
     "output_type": "stream",
     "text": [
      "23\n"
     ]
    }
   ],
   "source": [
    "max_caption_length = max(len(t) for t in y_train)\n",
    "print(max_caption_length)"
   ]
  },
  {
   "cell_type": "code",
   "execution_count": 38,
   "id": "494affbf-92e5-448a-954d-711b6aa46553",
   "metadata": {},
   "outputs": [
    {
     "name": "stdout",
     "output_type": "stream",
     "text": [
      "3095\n"
     ]
    }
   ],
   "source": [
    "print(vocab_size)"
   ]
  },
  {
   "cell_type": "code",
   "execution_count": 16,
   "id": "3fa9758c-8b22-40ec-b930-ba10aa58391c",
   "metadata": {},
   "outputs": [
    {
     "data": {
      "text/plain": [
       "['<start>',\n",
       " 'stretch',\n",
       " 'slim',\n",
       " 'fit',\n",
       " 'check',\n",
       " 'shirt',\n",
       " 'in',\n",
       " 'navy',\n",
       " '<end>',\n",
       " '<pad>',\n",
       " '<pad>',\n",
       " '<pad>',\n",
       " '<pad>',\n",
       " '<pad>',\n",
       " '<pad>',\n",
       " '<pad>',\n",
       " '<pad>',\n",
       " '<pad>',\n",
       " '<pad>',\n",
       " '<pad>',\n",
       " '<pad>',\n",
       " '<pad>',\n",
       " '<pad>']"
      ]
     },
     "execution_count": 16,
     "metadata": {},
     "output_type": "execute_result"
    }
   ],
   "source": [
    "[tokenizer.index_word[i] for i in y_train[1]]"
   ]
  },
  {
   "cell_type": "code",
   "execution_count": 17,
   "id": "a3128d90-b6ed-4aa0-bf11-72867e5b23c9",
   "metadata": {},
   "outputs": [],
   "source": [
    "  dataset = tf.data.Dataset.from_tensor_slices((X_train, y_train))"
   ]
  },
  {
   "cell_type": "code",
   "execution_count": 18,
   "id": "ee1a1ad3-8dac-42b9-8104-9dd7f507c81d",
   "metadata": {},
   "outputs": [],
   "source": [
    "BUFFER_SIZE = len(X_train)\n",
    "BATCH_SIZE = 64\n",
    "NUM_STEPS = BUFFER_SIZE // BATCH_SIZE\n",
    "\n",
    "# Shuffle and batch\n",
    "dataset = dataset.shuffle(BUFFER_SIZE).batch(BATCH_SIZE)\n",
    "\n",
    "# Using prefetching: https://www.tensorflow.org/guide/data_performance#prefetching\n",
    "dataset = dataset.prefetch(buffer_size=tf.data.experimental.AUTOTUNE)"
   ]
  },
  {
   "cell_type": "code",
   "execution_count": 19,
   "id": "bbd0ce59-03d4-4463-b1bd-0883696987b1",
   "metadata": {},
   "outputs": [],
   "source": [
    "@keras.saving.register_keras_serializable()\n",
    "class CNN_Encoder(tf.keras.Model):\n",
    "    # Since you have already extracted the features and dumped it using pickle\n",
    "    # This encoder passes those features through a Fully connected layer\n",
    "    def __init__(self, embedding_dim):\n",
    "        super(CNN_Encoder, self).__init__()\n",
    "        # shape after fc == (batch_size, 64, embedding_dim)\n",
    "        self.flat = tf.keras.layers.Flatten()\n",
    "        self.fc = tf.keras.layers.Dense(embedding_dim) #, activation='relu')\n",
    "\n",
    "    def call(self, x):\n",
    "        x = self.flat(x)\n",
    "        x = self.fc(x)\n",
    "        return x"
   ]
  },
  {
   "cell_type": "code",
   "execution_count": 20,
   "id": "c54bb92b-47ac-4406-836b-b75d1fdb5587",
   "metadata": {},
   "outputs": [],
   "source": [
    "@keras.saving.register_keras_serializable()\n",
    "class RNN_Decoder(tf.keras.Model):\n",
    "    def __init__(self, embedding_dim, units, vocab_size):\n",
    "        super(RNN_Decoder, self).__init__()\n",
    "        self.units = units\n",
    "\n",
    "        # input_dim = size of the vocabulary\n",
    "        # Define the embedding layer to transform the input caption sequence\n",
    "        self.embedding = tf.keras.layers.Embedding(vocab_size, embedding_dim)\n",
    "\n",
    "        # Define the Long Short Term Memory layer to predict the next words in the sequence\n",
    "        self.lstm = tf.keras.layers.LSTM(self.units, return_sequences=True, return_state=True)\n",
    "\n",
    "        # Define a dense layer to transform the LSTM output into prediction of the best word\n",
    "        self.fc = tf.keras.layers.Dense(vocab_size) #, activation='softmax')\n",
    "\n",
    "    # A function that transforms the input embeddings and passes them to the LSTM layer\n",
    "    def call(self, captions, features, omit_features = False, initial_state = None, verbose = False):\n",
    "        if verbose:\n",
    "            print(\"Before embedding\")\n",
    "            print(captions.shape)\n",
    "\n",
    "        embed = self.embedding(captions) #(batch_size, 1, embedding_dim)\n",
    "\n",
    "        if verbose:\n",
    "            print(\"Embed\")\n",
    "            print(embed.shape)\n",
    "\n",
    "        features = tf.expand_dims(features, 1)\n",
    "\n",
    "        if verbose:\n",
    "            print(\"Features\")\n",
    "            print(features.shape)\n",
    "\n",
    "        # Concatenating the image and caption embeddings before providing them to LSTM\n",
    "        # shape == (batch_size, 1, embedding_dim + hidden_size)\n",
    "        lstm_input = tf.concat([features, embed], axis=-2) if (omit_features == False) else embed\n",
    "\n",
    "        if verbose:\n",
    "            print(\"LSTM input\")\n",
    "            print(lstm_input.shape)\n",
    "\n",
    "        # Passing the concatenated vector to the LSTM\n",
    "        output, memory_state, carry_state = self.lstm(lstm_input, initial_state=initial_state)\n",
    "\n",
    "        if verbose:\n",
    "            print(\"LSTM output\")\n",
    "            print(output.shape)\n",
    "\n",
    "        # Transform LSTM output units to vocab_size\n",
    "        output = self.fc(output)\n",
    "\n",
    "        return output, memory_state, carry_state\n",
    "\n",
    "    def reset_state(self, batch_size):\n",
    "        return tf.zeros((batch_size, self.units))"
   ]
  },
  {
   "cell_type": "code",
   "execution_count": 21,
   "id": "3a1e94d4-031e-4d26-a152-bfe4831774d5",
   "metadata": {},
   "outputs": [],
   "source": [
    "units = embedding_dim = 512 # As in the paper\n",
    "vocab_size = min(top_k + 1, len(tokenizer.word_index.keys()))\n",
    "\n",
    "# Initialize encoder and decoder\n",
    "encoder = CNN_Encoder(embedding_dim)\n",
    "decoder = RNN_Decoder(embedding_dim, units, vocab_size)\n",
    "\n",
    "# Initialize optimizer\n",
    "optimizer = tf.keras.optimizers.Adam()\n",
    "\n",
    "# As the label is not one-hot encoded but indices. Logits as they are not probabilities.\n",
    "loss_object = tf.keras.losses.SparseCategoricalCrossentropy(from_logits=True, reduction='none')\n",
    "\n",
    "# Computes the loss using SCCE and calculates the average of singular losses in the tensor\n",
    "def loss_function(real, pred, verbose=False):\n",
    "    loss_ = loss_object(real, pred)\n",
    "\n",
    "    if verbose:\n",
    "        print(\"Loss\")\n",
    "        print(loss_)\n",
    "\n",
    "    loss_ = tf.reduce_mean(loss_, axis = 1)\n",
    "\n",
    "    if verbose:\n",
    "        print(\"After Mean Axis 1\")\n",
    "        print(loss_)\n",
    "\n",
    "    return loss_"
   ]
  },
  {
   "cell_type": "code",
   "execution_count": 22,
   "id": "69528004-ab9f-46ad-9804-7334a68e8b7b",
   "metadata": {},
   "outputs": [],
   "source": [
    "# Key Point: Any Python side-effects (appending to a list, printing with print, etc) will only happen once, when func is traced.\n",
    "# To have side-effects executed into your tf.function they need to be written as TF ops:\n",
    "@tf.function\n",
    "def train_step(img_tensor, target, verbose=False):\n",
    "    if verbose:\n",
    "        print(\"Image tensor\")\n",
    "        print(img_tensor.shape)\n",
    "\n",
    "        print(\"Target\")\n",
    "        print(target.shape)\n",
    "\n",
    "    # The input would be each set of words without the last one (<end>), to leave space for the first one that\n",
    "    # would be the image embedding\n",
    "    dec_input = tf.convert_to_tensor(target[:, :-1])\n",
    "\n",
    "    # Source: https://www.tensorflow.org/api_docs/python/tf/GradientTape\n",
    "    with tf.GradientTape() as tape:\n",
    "        features = encoder(img_tensor)\n",
    "\n",
    "        if verbose:\n",
    "            print(\"Features CNN\")\n",
    "            print(features)\n",
    "\n",
    "        predictions, _, _ = decoder(dec_input, features, verbose=verbose)\n",
    "\n",
    "        if verbose:\n",
    "            print(\"Predictions RNN\")\n",
    "            print(predictions)\n",
    "\n",
    "        caption_loss = loss_function(target, predictions) # (batch_size, )\n",
    "\n",
    "        # After tape\n",
    "        total_batch_loss = tf.reduce_sum(caption_loss) # Sum (batch_size, ) => K\n",
    "        mean_batch_loss = tf.reduce_mean(caption_loss) # Mean(batch_size, ) => K\n",
    "\n",
    "    # Updated the variables\n",
    "    trainable_variables = encoder.trainable_variables + decoder.trainable_variables\n",
    "    gradients = tape.gradient(caption_loss, trainable_variables)\n",
    "    optimizer.apply_gradients(zip(gradients, trainable_variables))\n",
    "\n",
    "    return total_batch_loss, mean_batch_loss"
   ]
  },
  {
   "cell_type": "code",
   "execution_count": 23,
   "id": "ca0e86fa-7a76-40fc-a8db-05b61204092a",
   "metadata": {},
   "outputs": [],
   "source": [
    "# checkpoint_path = \"./checkpoints/train\"\n",
    "# ckpt = tf.train.Checkpoint(encoder=encoder,\n",
    "#                            decoder=decoder,\n",
    "#                            optimizer = optimizer)\n",
    "# ckpt_manager = tf.train.CheckpointManager(ckpt, checkpoint_path, max_to_keep=5)"
   ]
  },
  {
   "cell_type": "code",
   "execution_count": 24,
   "id": "d27da3aa-265d-4815-b1cc-78951897fa4c",
   "metadata": {},
   "outputs": [],
   "source": [
    "# start_epoch = 0\n",
    "# if ckpt_manager.latest_checkpoint:\n",
    "#     start_epoch = int(ckpt_manager.latest_checkpoint.split('-')[-1])\n",
    "#     # restoring the latest checkpoint in checkpoint_path\n",
    "#     ckpt.restore(ckpt_manager.latest_checkpoint)"
   ]
  },
  {
   "cell_type": "code",
   "execution_count": 23,
   "id": "6e74e2f4-ce6a-465d-8be4-a258a808b832",
   "metadata": {},
   "outputs": [],
   "source": [
    "loss_plot = []"
   ]
  },
  {
   "cell_type": "code",
   "execution_count": 24,
   "id": "d6f5591d-38aa-47fa-9d42-bba3edda5496",
   "metadata": {},
   "outputs": [
    {
     "name": "stdout",
     "output_type": "stream",
     "text": [
      "Epoch 1 Batch 0 Batch Loss 8.0391\n",
      "Total Loss 16537.617188\n",
      "Epoch 1 Epoch Loss 165.376175\n",
      "Time taken for 1 epoch 56.1945116519928 sec\n",
      "\n",
      "Epoch 2 Batch 0 Batch Loss 2.0612\n",
      "Total Loss 11796.555664\n",
      "Epoch 2 Epoch Loss 117.965553\n",
      "Time taken for 1 epoch 54.918550968170166 sec\n",
      "\n",
      "Epoch 3 Batch 0 Batch Loss 1.6470\n",
      "Total Loss 10377.091797\n",
      "Epoch 3 Epoch Loss 103.770920\n",
      "Time taken for 1 epoch 57.67701554298401 sec\n",
      "\n",
      "Epoch 4 Batch 0 Batch Loss 1.5034\n",
      "Total Loss 9460.409180\n",
      "Epoch 4 Epoch Loss 94.604095\n",
      "Time taken for 1 epoch 61.99547505378723 sec\n",
      "\n",
      "Epoch 5 Batch 0 Batch Loss 1.4658\n",
      "Total Loss 8739.461914\n",
      "Epoch 5 Epoch Loss 87.394623\n",
      "Time taken for 1 epoch 59.6501681804657 sec\n",
      "\n"
     ]
    }
   ],
   "source": [
    "EPOCHS = 5\n",
    "start_epoch = 0\n",
    "\n",
    "for epoch in range(start_epoch, EPOCHS):\n",
    "    real_epoch = len(loss_plot) + 1\n",
    "    start = time()\n",
    "    total_loss = 0\n",
    "\n",
    "    for (batch, (img_tensor, target)) in enumerate(dataset):\n",
    "        total_batch_loss, mean_batch_loss = train_step(img_tensor, target, verbose=False)\n",
    "        total_loss += total_batch_loss\n",
    "\n",
    "        if batch % 100 == 0:\n",
    "            print ('Epoch {} Batch {} Batch Loss {:.4f}'.format(real_epoch, batch, mean_batch_loss.numpy()))\n",
    "\n",
    "    print ('Total Loss {:.6f}'.format(total_loss))\n",
    "    epoch_loss = total_loss / NUM_STEPS\n",
    "\n",
    "    # storing the epoch end loss value to plot later\n",
    "    loss_plot.append(epoch_loss)\n",
    "\n",
    "    # if epoch % 5 == 0:\n",
    "    #     ckpt_manager.save()\n",
    "\n",
    "    print ('Epoch {} Epoch Loss {:.6f}'.format(real_epoch, epoch_loss))\n",
    "    print ('Time taken for 1 epoch {} sec\\n'.format(time() - start))"
   ]
  },
  {
   "cell_type": "code",
   "execution_count": 25,
   "id": "ebeb114a-3bd6-43b3-bd64-bc230a28153f",
   "metadata": {},
   "outputs": [
    {
     "data": {
      "image/png": "[encoded data removed]",
      "text/plain": [
       "<Figure size 640x480 with 1 Axes>"
      ]
     },
     "metadata": {},
     "output_type": "display_data"
    }
   ],
   "source": [
    "plt.plot(loss_plot)\n",
    "plt.xlabel('Epochs')\n",
    "plt.ylabel('Loss')\n",
    "plt.title('Loss Plot')\n",
    "plt.show()"
   ]
  },
  {
   "cell_type": "code",
   "execution_count": 26,
   "id": "561cad0a-d7cd-4490-b96d-ac7003a1c40c",
   "metadata": {},
   "outputs": [],
   "source": [
    "# Remove <start>, <end> and <pad> marks from the predicted sequence\n",
    "def clean_caption(caption):\n",
    "    return [item for item in caption if item not in ['<start>', '<end>', '<pad>']]"
   ]
  },
  {
   "cell_type": "code",
   "execution_count": 27,
   "id": "72028895-3c27-4df1-9c4e-f6008e543546",
   "metadata": {},
   "outputs": [],
   "source": [
    "test_img_name = random.choice(image_filenames_train)"
   ]
  },
  {
   "cell_type": "code",
   "execution_count": 28,
   "id": "7d53f46d-f5c2-45ed-ab7f-d7d7315ccf42",
   "metadata": {},
   "outputs": [
    {
     "name": "stderr",
     "output_type": "stream",
     "text": [
      "Clipping input data to the valid range for imshow with RGB data ([0..1] for floats or [0..255] for integers).\n"
     ]
    },
    {
     "name": "stdout",
     "output_type": "stream",
     "text": [
      "Real captions\n",
      "<start> padded nylon holdall with branding in black 22 litres <end>\n",
      "Esimated caption\n",
      "['topman', 'oversized', 't', 'shirt', 'with', 'crew', 'neck', 'in', 'black']\n"
     ]
    },
    {
     "data": {
      "image/png": "[encoded data removed]",
      "text/plain": [
       "<Figure size 640x480 with 1 Axes>"
      ]
     },
     "metadata": {},
     "output_type": "display_data"
    }
   ],
   "source": [
    "# Get captions from a test image\n",
    "def get_caption(img):\n",
    "    # Add image to an array to simulate batch size of 1\n",
    "    features = encoder(tf.expand_dims(img, 0))\n",
    "\n",
    "    caption = []\n",
    "    dec_input = tf.expand_dims([], 0)\n",
    "\n",
    "     # Inputs the image embedding into the trained LSTM layer and predicts the first word of the sequence.\n",
    "    # The output, hidden and cell states are passed again to the LSTM to generate the next word.\n",
    "    # The iteration is repeated until the caption does not reach the max length.\n",
    "    state = None\n",
    "    for i in range(1, max_caption_length):\n",
    "        predictions, memory_state, carry_state = \\\n",
    "            decoder(dec_input, features, omit_features=i > 1, initial_state=state)\n",
    "\n",
    "        # Takes maximum index of predictions\n",
    "        word_index = np.argmax(predictions.numpy().flatten())\n",
    "\n",
    "        caption.append(tokenizer.index_word[word_index])\n",
    "\n",
    "        dec_input = tf.expand_dims([word_index], 0)\n",
    "        state = [memory_state, carry_state]\n",
    "\n",
    "    # Filter caption\n",
    "    return clean_caption(caption)\n",
    "\n",
    "raw_img = load_image(test_img_name)[0]\n",
    "img = images_dict[test_img_name]\n",
    "captions = images_captions_dict[test_img_name]\n",
    "\n",
    "plt.imshow(raw_img)\n",
    "\n",
    "print(\"Real captions\")\n",
    "for caption in captions:\n",
    "    print(caption)\n",
    "\n",
    "print(\"Esimated caption\")\n",
    "estimated_caption = get_caption(img)\n",
    "print(estimated_caption)"
   ]
  },
  {
   "cell_type": "code",
   "execution_count": 29,
   "id": "ca90fe01-3c02-4942-bdfe-63fd33f883bb",
   "metadata": {},
   "outputs": [
    {
     "name": "stderr",
     "output_type": "stream",
     "text": [
      "Clipping input data to the valid range for imshow with RGB data ([0..1] for floats or [0..255] for integers).\n"
     ]
    },
    {
     "name": "stdout",
     "output_type": "stream",
     "text": [
      "Real captions\n",
      "<start> Lost Souls bracelet smart watch strap in silver <end>\n",
      "Esimated caption\n",
      "['topman', 'oversized', 't', 'shirt', 'with', 'crew', 'neck', 'in', 'black']\n"
     ]
    },
    {
     "data": {
      "image/png": "[encoded data removed]",
      "text/plain": [
       "<Figure size 640x480 with 1 Axes>"
      ]
     },
     "metadata": {},
     "output_type": "display_data"
    }
   ],
   "source": [
    "test_img_name = random.choice(image_filenames_train)\n",
    "raw_img = load_image(test_img_name)[0]\n",
    "img = images_dict[test_img_name]\n",
    "captions = images_captions_dict[test_img_name]\n",
    "\n",
    "plt.imshow(raw_img)\n",
    "\n",
    "print(\"Real captions\")\n",
    "for caption in captions:\n",
    "    print(caption)\n",
    "\n",
    "print(\"Esimated caption\")\n",
    "estimated_caption = get_caption(img)\n",
    "print(estimated_caption)"
   ]
  },
  {
   "cell_type": "code",
   "execution_count": 32,
   "id": "4eabd0f6-2b98-46a8-a5e1-a71d1c470492",
   "metadata": {},
   "outputs": [
    {
     "name": "stdout",
     "output_type": "stream",
     "text": [
      "BLEU-1: 0.204960\n",
      "BLEU-2: 0.079795\n"
     ]
    },
    {
     "name": "stderr",
     "output_type": "stream",
     "text": [
      "C:\\Users\\Najla\\anaconda3\\lib\\site-packages\\nltk\\translate\\bleu_score.py:552: UserWarning: \n",
      "The hypothesis contains 0 counts of 4-gram overlaps.\n",
      "Therefore the BLEU score evaluates to 0, independently of\n",
      "how many N-gram overlaps of lower order it contains.\n",
      "Consider using lower n-gram order or use SmoothingFunction()\n",
      "  warnings.warn(_msg)\n"
     ]
    }
   ],
   "source": [
    "def get_caption(img):\n",
    "    # Add image to an array to simulate batch size of 1\n",
    "    features = encoder(tf.expand_dims(img, 0))\n",
    "\n",
    "    caption = []\n",
    "    dec_input = tf.expand_dims([], 0)\n",
    "\n",
    "    state = None\n",
    "    for i in range(1, max_caption_length):\n",
    "        predictions, memory_state, carry_state = \\\n",
    "            decoder(dec_input, features, omit_features=i > 1, initial_state=state)\n",
    "\n",
    "        word_index = np.argmax(predictions.numpy().flatten())\n",
    "\n",
    "        caption.append(tokenizer.index_word[word_index])\n",
    "\n",
    "        dec_input = tf.expand_dims([word_index], 0)\n",
    "        state = [memory_state, carry_state]\n",
    "\n",
    "    # Filter caption\n",
    "    return clean_caption(caption)\n",
    "\n",
    "actual, predicted = [], []\n",
    "\n",
    "for test_img_name in image_filenames_test:\n",
    "    img = images_dict[test_img_name]\n",
    "    estimated_caption = get_caption(img)\n",
    "\n",
    "    captions = [clean_caption(caption.split()) for caption in images_captions_dict[test_img_name]]\n",
    "\n",
    "    # store actual and predicted\n",
    "    actual.append(captions)\n",
    "    predicted.append(estimated_caption)\n",
    "\n",
    "# Print BLEU score\n",
    "print('BLEU-1: %f' % corpus_bleu(actual, predicted, weights=(1.0, 0, 0, 0)))\n",
    "print('BLEU-2: %f' % corpus_bleu(actual, predicted, weights=(0.5, 0.5, 0, 0)))"
   ]
  },
  {
   "cell_type": "code",
   "execution_count": 36,
   "id": "f5cabd2b-79b5-41ff-89f6-38c57496ae44",
   "metadata": {},
   "outputs": [],
   "source": [
    "import pickle\n",
    "# Save the CNN encoder model architecture and weights\n",
    "cnn_encoder_architecture = encoder.to_json()  # Serialize model architecture to JSON\n",
    "cnn_encoder_weights = encoder.get_weights()    # Get model weights as a list\n",
    "\n",
    "# Save the serialized architecture and weights to a pickle file\n",
    "with open('model/cnn_encoder_model.pkl', 'wb') as model_file:\n",
    "    pickle.dump(cnn_encoder_architecture, model_file)\n",
    "    pickle.dump(cnn_encoder_weights, model_file)"
   ]
  },
  {
   "cell_type": "code",
   "execution_count": 37,
   "id": "3e07be4b-ce6a-4701-b7c7-0232160fe5b6",
   "metadata": {},
   "outputs": [],
   "source": [
    "# Save the RNN decoder model architecture and weights\n",
    "rnn_decoder_architecture = decoder.to_json()  # Serialize model architecture to JSON\n",
    "rnn_decoder_weights = decoder.get_weights()    # Get model weights as a list\n",
    "\n",
    "# Save the serialized architecture and weights to a pickle file\n",
    "with open('model/rnn_decoder_model.pkl', 'wb') as model_file:\n",
    "    pickle.dump(rnn_decoder_architecture, model_file)\n",
    "    pickle.dump(rnn_decoder_weights, model_file)"
   ]
  },
  {
   "cell_type": "code",
   "execution_count": 35,
   "id": "6925aab6-ae84-4c41-a260-ad2712e33978",
   "metadata": {},
   "outputs": [],
   "source": [
    "import pickle\n",
    "with open('model/cnn_encoder_model.pkl', 'wb') as model_file:\n",
    "    pickle.dump(encoder, model_file)\n",
    "    pickle.dump(cnn_encoder_architecture, model_file)\n",
    "    pickle.dump(cnn_encoder_weights, model_file)\n",
    "    \n",
    "with open('model/rnn_decoder_model.pkl', 'wb') as model_file:\n",
    "    pickle.dump(decoder, model_file)\n",
    "    pickle.dump(rnn_decoder_architecture, model_file)\n",
    "    pickle.dump(rnn_decoder_weights, model_file)"
   ]
  },
  {
   "cell_type": "code",
   "execution_count": null,
   "id": "21efb96e-36ed-4c21-adfd-c68a56794690",
   "metadata": {},
   "outputs": [],
   "source": [
    "import openai\n",
    "import os\n",
    "\n",
    "from dotenv import load_dotenv, find_dotenv\n",
    "_ = load_dotenv(find_dotenv())\n",
    "\n",
    "openai.api_key  = os.getenv('OPENAI_API_KEY')"
   ]
  },
  {
   "cell_type": "code",
   "execution_count": null,
   "id": "243ebfff-34a7-4b97-917d-76e73d56017e",
   "metadata": {},
   "outputs": [],
   "source": []
  }
 ],
 "metadata": {
  "kernelspec": {
   "display_name": "Python 3 (ipykernel)",
   "language": "python",
   "name": "python3"
  },
  "language_info": {
   "codemirror_mode": {
    "name": "ipython",
    "version": 3
   },
   "file_extension": ".py",
   "mimetype": "text/x-python",
   "name": "python",
   "nbconvert_exporter": "python",
   "pygments_lexer": "ipython3",
   "version": "3.9.13"
  }
 },
 "nbformat": 4,
 "nbformat_minor": 5
}
